{
 "cells": [
  {
   "cell_type": "markdown",
   "metadata": {},
   "source": [
    "# PYTHON: DATA MANAGEMENT TIPS OVER CONNECTIVITY\n",
    "\n",
    "# INTRODUCTION\n",
    "\n",
    "By: Hector Alvaro Rojas &nbsp;&nbsp;|&nbsp;&nbsp; Data Science, Visualizations and Applied Statistics &nbsp;&nbsp;|&nbsp;&nbsp; January 20, 2018<br>\n",
    "    Url: [http://www.arqmain.net]   &nbsp;&nbsp;&nbsp;|&nbsp;&nbsp;&nbsp;   GitHub: [https://github.com/arqmain]\n",
    "    <hr>"
   ]
  },
  {
   "cell_type": "markdown",
   "metadata": {},
   "source": [
    "\"Management of Data Base\" [Data Management or DM] is still one of the most important activities of the present times. All areas of human development anytime require performing some operations related to Data Management.\n",
    "\n",
    "This project covers the specific topic of connectivity with some of the more frequently used database management systems for relational databases at the present time. \n",
    "\n",
    "The principal approach of this work lies in delivering efficient ways of connectivity.  At the same time, it is included specific examples for each case and uses some practical “queries\" to get information from databases.\n",
    "\n",
    "The database management systems considered here are SQLite, MySQL, MS-SQL, MS-ACCESS, and PostgreSQL.  \n",
    "\n",
    "Python is a highly dynamic ecosystem and it is having a great expansion these days. So, this publication aims to be located as a contribution on the issue of Python connectivity with updated reference in January 2018."
   ]
  },
  {
   "cell_type": "markdown",
   "metadata": {},
   "source": [
    "## Important Generalities"
   ]
  },
  {
   "cell_type": "markdown",
   "metadata": {},
   "source": [
    "All this project has been developed under Windows 7 in a 64 bits system. Anyway, all the scripts should be run on a 32 bits system too. \n",
    "\n",
    "The connectivity treatment is given mainly through the SQLAlchemy application and the Python PANDAS library. SQLAlchemy is used to make the connection to the databases and PANDAS to make the examples of queries that are included here.\n",
    "\n",
    "It is very important to note that in this environment the commands are translated to SQL in the background and when forced to execute, then the compiled SQL is executed on the database side and only the resulting dataset is loaded to memory. This characteristic turns to be extremely handy when v.g. The whole dataset does not fit the computer memory.\n",
    "\n",
    "Please do not make a mistake including PANDASQL in this cluster of data management connectivity. Pandasql is a great module to be used by the time we want to apply SQL on python data frames but not to get connectivity from python to data management system like the ones treated in this project. Pandasql is a Python package for running SQL statements on pandas DataFrames. It has a lot in common with the SQLDF package in R.\n",
    "\n",
    "The following tables show the relationship between R-project and Python in regards to the connectivity and SQL data frame querying facilities. \n",
    "\n",
    "![title](img/Introduction1.png)\n",
    "\n",
    "This project assumes that the reader knows the problems related to the connection of the database administrators through the respective \"drives\". In this regards, the following links can be consulted to remember and / or address the respective topic, especially in the case of MS-SQL ans MS-ACCESS.\n",
    "\n",
    ">* Webinar: What is Open Database Connector (ODBC)? [https://www.youtube.com/watch?v=VkMXJvaWeTE]\n",
    ">* Getting Started with ODBC [https://www.youtube.com/watch?v=IINug57wFk4]\n",
    ">* How to Configure ODBC to Access a Microsoft SQL Server [https://www.youtube.com/watch?v=tUiaK5fRH7k&t=163s]\n",
    ">* Connecting to Microsoft Access using ODBC [https://www.youtube.com/watch?v=AKy81T0QiZ8]\n",
    ">* Connecting to Microsoft Access using ODBC [https://www.youtube.com/watch?v=AKy81T0QiZ8&t=12s]\n",
    "\n",
    "In the case of MySQL and PostgreSQL, the parameters must be extracted (password, host, user, etc.) from the respective platform, depending on the installation that the reader has activated on your computer. For example, MySQL in my case host = 'localhost', db = 'mybase1', password = ''.\n",
    " \n",
    "Finally, for SQLite, it is enough to follow the instructions given in this project when dealing with the connectivity with the respective database. This is because Python through Pandas has some support for reading / writing DataFrames directly."
   ]
  },
  {
   "cell_type": "markdown",
   "metadata": {
    "collapsed": true
   },
   "source": [
    "<hr>\n",
    "By: Hector Alvaro Rojas &nbsp;&nbsp;|&nbsp;&nbsp; Data Science, Visualizations and Applied Statistics &nbsp;&nbsp;|&nbsp;&nbsp; January 20, 2018<br>\n",
    "    Url: [http://www.arqmain.net]   &nbsp;&nbsp;&nbsp;|&nbsp;&nbsp;&nbsp;   GitHub: [https://github.com/arqmain]\n",
    "    <hr>"
   ]
  }
 ],
 "metadata": {
  "anaconda-cloud": {},
  "kernelspec": {
   "display_name": "Python 3",
   "language": "python",
   "name": "python3"
  },
  "language_info": {
   "codemirror_mode": {
    "name": "ipython",
    "version": 3
   },
   "file_extension": ".py",
   "mimetype": "text/x-python",
   "name": "python",
   "nbconvert_exporter": "python",
   "pygments_lexer": "ipython3",
   "version": "3.6.3"
  }
 },
 "nbformat": 4,
 "nbformat_minor": 1
}
