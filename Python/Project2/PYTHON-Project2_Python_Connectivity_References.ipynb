{
 "cells": [
  {
   "cell_type": "markdown",
   "metadata": {},
   "source": [
    "# PYTHON: DATA MANAGEMENT TIPS OVER CONNECTIVITY\n",
    "\n",
    "# REFERENCES\n",
    "\n",
    "By: Hector Alvaro Rojas &nbsp;&nbsp;|&nbsp;&nbsp; Data Science, Visualizations and Applied Statistics &nbsp;&nbsp;|&nbsp;&nbsp; January 20, 2018<br>\n",
    "    Url: [http://www.arqmain.net]   &nbsp;&nbsp;&nbsp;|&nbsp;&nbsp;&nbsp;   GitHub: [https://github.com/arqmain]\n",
    "    <hr>"
   ]
  },
  {
   "cell_type": "markdown",
   "metadata": {},
   "source": [
    ">* This is SQLAlchemy web site [SQLAlchemy 1.1 Documentation](http://docs.sqlalchemy.org/en/latest/core/engines.html) to get the necessary formal structure of the syntax from section</b>.<br><br>\n",
    ">* From here [pandas.DataFrame.to_sql](http://pandas.pydata.org/pandas-docs/stable/generated/pandas.DataFrame.to_sql.html) we get the parameters definition.<br><br>\n",
    ">* From here [PYTHON: PANDAS → MYSQL USING SQLALCHEMY. A.K.A SQLALCHEMY FOR PANDAS USERS WHO DON’T KNOW SQL (THE BRAVE AND THE FOOLHARDY)](https://robertdavidwest.com/2014/10/12/python-pandas-%E2%86%92-mysql-using-sqlalchemy-a-k-a-sqlalchemy-for-pandas-users-who-dont-know-sql-the-brave-and-the-foolhardy/) we get other material too.<br><br>\n",
    ">* This is SQLAlchemy web site [SQLAlchemy 1.1 Documentation](http://docs.sqlalchemy.org/en/latest/core/engines.html) to get the necessary formal structure of the syntax.<br><br>\n",
    ">* To get a summary of python aggregated functions see this link: [Pandas Essential Basic Functionality](http://pandas.pydata.org/pandas-docs/stable/basics.html) in the <b><u>Descriptive statistics</u></b> section.<br><br>\n",
    ">* Webinar: What is Open Database Connector (ODBC)? [https://www.youtube.com/watch?v=VkMXJvaWeTE]<br><br>\n",
    ">* Getting Started with ODBC [https://www.youtube.com/watch?v=IINug57wFk4]<br><br>\n",
    ">* How to Configure ODBC to Access a Microsoft SQL Server [https://www.youtube.com/watch?v=tUiaK5fRH7k&t=163s]<br><br>\n",
    ">* Welcome to PyMySQL’s documentation! [https://pymysql.readthedocs.io/en/latest/]<br><br>\n",
    ">* GitHub - PyMySQL/PyMySQL: Pure Python MySQL Client [https://github.com/PyMySQL/PyMySQL]<br><br>\n",
    ">* Amazon RDS Free Tier [https://aws.amazon.com/rds/free/?nc1=h_ls]<br><br>\n",
    ">* How do I connect to my RDS instance running MySQL using MySQL Workbench? [https://aws.amazon.com/es/premiumsupport/knowledge-center/connect-rds-mysql-workbench/]\n"
   ]
  },
  {
   "cell_type": "markdown",
   "metadata": {},
   "source": [
    "<hr>\n",
    "By: Hector Alvaro Rojas &nbsp;&nbsp;|&nbsp;&nbsp; Data Science, Visualizations and Applied Statistics &nbsp;&nbsp;|&nbsp;&nbsp; January 20, 2018<br>\n",
    "    Url: [http://www.arqmain.net]   &nbsp;&nbsp;&nbsp;|&nbsp;&nbsp;&nbsp;   GitHub: [https://github.com/arqmain]\n",
    "    <hr>"
   ]
  }
 ],
 "metadata": {
  "anaconda-cloud": {},
  "kernelspec": {
   "display_name": "Python 3",
   "language": "python",
   "name": "python3"
  },
  "language_info": {
   "codemirror_mode": {
    "name": "ipython",
    "version": 3
   },
   "file_extension": ".py",
   "mimetype": "text/x-python",
   "name": "python",
   "nbconvert_exporter": "python",
   "pygments_lexer": "ipython3",
   "version": "3.6.3"
  }
 },
 "nbformat": 4,
 "nbformat_minor": 1
}
